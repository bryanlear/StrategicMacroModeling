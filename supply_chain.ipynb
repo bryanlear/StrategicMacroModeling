{
 "cells": [
  {
   "cell_type": "code",
   "execution_count": null,
   "id": "cea605fe",
   "metadata": {},
   "outputs": [],
   "source": []
  }
 ],
 "metadata": {
  "language_info": {
   "name": "python"
  }
 },
 "nbformat": 4,
 "nbformat_minor": 5
}
